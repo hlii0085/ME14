{
 "cells": [
  {
   "cell_type": "markdown",
   "metadata": {},
   "source": [
    "**This jupyter notebook file contains different data manipulation techniques used to convert the open dataset(taken from https://www.aihw.gov.au/reports/mental-health-services/mental-health-services-in-australia/data#page2) into a required form inorder to create an interactive data visualisation that displays information about how many people have accessed mental health services region wise here in Australia**\n",
    "\n",
    "***Author : Sai Teja Pothnak***"
   ]
  },
  {
   "cell_type": "code",
   "execution_count": 1,
   "metadata": {},
   "outputs": [
    {
     "data": {
      "text/plain": [
       "'C:\\\\Users\\\\saite\\\\Desktop\\\\Project Datasets'"
      ]
     },
     "execution_count": 1,
     "metadata": {},
     "output_type": "execute_result"
    }
   ],
   "source": [
    "%pwd #checking the directory"
   ]
  },
  {
   "cell_type": "markdown",
   "metadata": {},
   "source": [
    "## Importing Data manipulation package"
   ]
  },
  {
   "cell_type": "code",
   "execution_count": 3,
   "metadata": {},
   "outputs": [],
   "source": [
    "import pandas as pd #importing pandas"
   ]
  },
  {
   "cell_type": "markdown",
   "metadata": {},
   "source": [
    "## Reading the csv file that contains latitude, longitude details of states in Australia"
   ]
  },
  {
   "cell_type": "code",
   "execution_count": 6,
   "metadata": {},
   "outputs": [],
   "source": [
    "df1=pd.read_csv('latlon.csv')  #reading the file using pandas"
   ]
  },
  {
   "cell_type": "code",
   "execution_count": 7,
   "metadata": {},
   "outputs": [
    {
     "data": {
      "text/html": [
       "<div>\n",
       "<style scoped>\n",
       "    .dataframe tbody tr th:only-of-type {\n",
       "        vertical-align: middle;\n",
       "    }\n",
       "\n",
       "    .dataframe tbody tr th {\n",
       "        vertical-align: top;\n",
       "    }\n",
       "\n",
       "    .dataframe thead th {\n",
       "        text-align: right;\n",
       "    }\n",
       "</style>\n",
       "<table border=\"1\" class=\"dataframe\">\n",
       "  <thead>\n",
       "    <tr style=\"text-align: right;\">\n",
       "      <th></th>\n",
       "      <th>longitude</th>\n",
       "      <th>latitude</th>\n",
       "      <th>State</th>\n",
       "    </tr>\n",
       "  </thead>\n",
       "  <tbody>\n",
       "    <tr>\n",
       "      <th>0</th>\n",
       "      <td>151.20</td>\n",
       "      <td>-33.87</td>\n",
       "      <td>New South Wales</td>\n",
       "    </tr>\n",
       "    <tr>\n",
       "      <th>1</th>\n",
       "      <td>144.97</td>\n",
       "      <td>-37.82</td>\n",
       "      <td>Victoria</td>\n",
       "    </tr>\n",
       "    <tr>\n",
       "      <th>2</th>\n",
       "      <td>153.02</td>\n",
       "      <td>-27.47</td>\n",
       "      <td>Queensland</td>\n",
       "    </tr>\n",
       "    <tr>\n",
       "      <th>3</th>\n",
       "      <td>115.85</td>\n",
       "      <td>-31.95</td>\n",
       "      <td>Western Australia</td>\n",
       "    </tr>\n",
       "    <tr>\n",
       "      <th>4</th>\n",
       "      <td>138.60</td>\n",
       "      <td>-34.93</td>\n",
       "      <td>South Australia</td>\n",
       "    </tr>\n",
       "    <tr>\n",
       "      <th>5</th>\n",
       "      <td>147.32</td>\n",
       "      <td>-42.88</td>\n",
       "      <td>Tasmania</td>\n",
       "    </tr>\n",
       "    <tr>\n",
       "      <th>6</th>\n",
       "      <td>149.13</td>\n",
       "      <td>-35.30</td>\n",
       "      <td>Australian Capital Territory</td>\n",
       "    </tr>\n",
       "    <tr>\n",
       "      <th>7</th>\n",
       "      <td>130.83</td>\n",
       "      <td>-12.45</td>\n",
       "      <td>Northern Territory</td>\n",
       "    </tr>\n",
       "  </tbody>\n",
       "</table>\n",
       "</div>"
      ],
      "text/plain": [
       "   longitude  latitude                         State\n",
       "0     151.20    -33.87               New South Wales\n",
       "1     144.97    -37.82                      Victoria\n",
       "2     153.02    -27.47                    Queensland\n",
       "3     115.85    -31.95             Western Australia\n",
       "4     138.60    -34.93               South Australia\n",
       "5     147.32    -42.88                      Tasmania\n",
       "6     149.13    -35.30  Australian Capital Territory\n",
       "7     130.83    -12.45            Northern Territory"
      ]
     },
     "execution_count": 7,
     "metadata": {},
     "output_type": "execute_result"
    }
   ],
   "source": [
    "df1 #checking the dataframe"
   ]
  },
  {
   "cell_type": "markdown",
   "metadata": {},
   "source": [
    "## Reading the cv file that contains data related to number of people who have accessed mental health services in 2017-2018"
   ]
  },
  {
   "cell_type": "code",
   "execution_count": 9,
   "metadata": {},
   "outputs": [],
   "source": [
    "df2=pd.read_csv('Services.csv') #reading csv using pandas"
   ]
  },
  {
   "cell_type": "code",
   "execution_count": 10,
   "metadata": {},
   "outputs": [
    {
     "data": {
      "text/html": [
       "<div>\n",
       "<style scoped>\n",
       "    .dataframe tbody tr th:only-of-type {\n",
       "        vertical-align: middle;\n",
       "    }\n",
       "\n",
       "    .dataframe tbody tr th {\n",
       "        vertical-align: top;\n",
       "    }\n",
       "\n",
       "    .dataframe thead th {\n",
       "        text-align: right;\n",
       "    }\n",
       "</style>\n",
       "<table border=\"1\" class=\"dataframe\">\n",
       "  <thead>\n",
       "    <tr style=\"text-align: right;\">\n",
       "      <th></th>\n",
       "      <th>Number/Rate</th>\n",
       "      <th>Service type</th>\n",
       "      <th>NSW(c)</th>\n",
       "      <th>Vic(d)(e)</th>\n",
       "      <th>Qld(e)</th>\n",
       "      <th>WA</th>\n",
       "      <th>SA</th>\n",
       "      <th>Tas</th>\n",
       "      <th>ACT(f)</th>\n",
       "      <th>NT(g)</th>\n",
       "      <th>Total</th>\n",
       "    </tr>\n",
       "  </thead>\n",
       "  <tbody>\n",
       "    <tr>\n",
       "      <th>0</th>\n",
       "      <td>Number of service users</td>\n",
       "      <td>Non-residential</td>\n",
       "      <td>29,074</td>\n",
       "      <td>30,958</td>\n",
       "      <td>22,150</td>\n",
       "      <td>5,529</td>\n",
       "      <td>10,574</td>\n",
       "      <td>2,084</td>\n",
       "      <td>802</td>\n",
       "      <td>323</td>\n",
       "      <td>100,477</td>\n",
       "    </tr>\n",
       "    <tr>\n",
       "      <th>1</th>\n",
       "      <td>Number of service users</td>\n",
       "      <td>Residential</td>\n",
       "      <td>575</td>\n",
       "      <td>418</td>\n",
       "      <td>495</td>\n",
       "      <td>180</td>\n",
       "      <td>609</td>\n",
       "      <td>91</td>\n",
       "      <td>n.a.</td>\n",
       "      <td>7</td>\n",
       "      <td>2,375</td>\n",
       "    </tr>\n",
       "    <tr>\n",
       "      <th>2</th>\n",
       "      <td>Number of service users</td>\n",
       "      <td>Total(i)</td>\n",
       "      <td>29,157</td>\n",
       "      <td>31,098</td>\n",
       "      <td>22,256</td>\n",
       "      <td>5,531</td>\n",
       "      <td>10,620</td>\n",
       "      <td>2,094</td>\n",
       "      <td>802</td>\n",
       "      <td>325</td>\n",
       "      <td>100,866</td>\n",
       "    </tr>\n",
       "  </tbody>\n",
       "</table>\n",
       "</div>"
      ],
      "text/plain": [
       "               Number/Rate     Service type  NSW(c) Vic(d)(e)  Qld(e)     WA  \\\n",
       "0  Number of service users  Non-residential  29,074    30,958  22,150  5,529   \n",
       "1  Number of service users      Residential     575       418     495    180   \n",
       "2  Number of service users         Total(i)  29,157    31,098  22,256  5,531   \n",
       "\n",
       "       SA    Tas ACT(f)  NT(g)    Total  \n",
       "0  10,574  2,084    802    323  100,477  \n",
       "1     609     91   n.a.      7    2,375  \n",
       "2  10,620  2,094    802    325  100,866  "
      ]
     },
     "execution_count": 10,
     "metadata": {},
     "output_type": "execute_result"
    }
   ],
   "source": [
    "df2.head() #displaying the dataframe"
   ]
  },
  {
   "cell_type": "markdown",
   "metadata": {},
   "source": [
    "## Taking the first two rows"
   ]
  },
  {
   "cell_type": "code",
   "execution_count": 21,
   "metadata": {},
   "outputs": [],
   "source": [
    "#storing the region wise information into lists\n",
    "non_residential=list(df2.iloc[0])[2:-1] #storing only required values\n",
    "residential=list(df2.iloc[1])[2:-1]"
   ]
  },
  {
   "cell_type": "markdown",
   "metadata": {},
   "source": [
    "## Adding these lists as columns into df1 dataframe"
   ]
  },
  {
   "cell_type": "code",
   "execution_count": 22,
   "metadata": {},
   "outputs": [],
   "source": [
    "df1['Non Residential']=non_residential #non residential column\n",
    "df1['Residential']=residential #residential column"
   ]
  },
  {
   "cell_type": "code",
   "execution_count": 23,
   "metadata": {},
   "outputs": [
    {
     "data": {
      "text/html": [
       "<div>\n",
       "<style scoped>\n",
       "    .dataframe tbody tr th:only-of-type {\n",
       "        vertical-align: middle;\n",
       "    }\n",
       "\n",
       "    .dataframe tbody tr th {\n",
       "        vertical-align: top;\n",
       "    }\n",
       "\n",
       "    .dataframe thead th {\n",
       "        text-align: right;\n",
       "    }\n",
       "</style>\n",
       "<table border=\"1\" class=\"dataframe\">\n",
       "  <thead>\n",
       "    <tr style=\"text-align: right;\">\n",
       "      <th></th>\n",
       "      <th>longitude</th>\n",
       "      <th>latitude</th>\n",
       "      <th>State</th>\n",
       "      <th>Non Residential</th>\n",
       "      <th>Residential</th>\n",
       "    </tr>\n",
       "  </thead>\n",
       "  <tbody>\n",
       "    <tr>\n",
       "      <th>0</th>\n",
       "      <td>151.20</td>\n",
       "      <td>-33.87</td>\n",
       "      <td>New South Wales</td>\n",
       "      <td>29,074</td>\n",
       "      <td>575</td>\n",
       "    </tr>\n",
       "    <tr>\n",
       "      <th>1</th>\n",
       "      <td>144.97</td>\n",
       "      <td>-37.82</td>\n",
       "      <td>Victoria</td>\n",
       "      <td>30,958</td>\n",
       "      <td>418</td>\n",
       "    </tr>\n",
       "    <tr>\n",
       "      <th>2</th>\n",
       "      <td>153.02</td>\n",
       "      <td>-27.47</td>\n",
       "      <td>Queensland</td>\n",
       "      <td>22,150</td>\n",
       "      <td>495</td>\n",
       "    </tr>\n",
       "    <tr>\n",
       "      <th>3</th>\n",
       "      <td>115.85</td>\n",
       "      <td>-31.95</td>\n",
       "      <td>Western Australia</td>\n",
       "      <td>5,529</td>\n",
       "      <td>180</td>\n",
       "    </tr>\n",
       "    <tr>\n",
       "      <th>4</th>\n",
       "      <td>138.60</td>\n",
       "      <td>-34.93</td>\n",
       "      <td>South Australia</td>\n",
       "      <td>10,574</td>\n",
       "      <td>609</td>\n",
       "    </tr>\n",
       "    <tr>\n",
       "      <th>5</th>\n",
       "      <td>147.32</td>\n",
       "      <td>-42.88</td>\n",
       "      <td>Tasmania</td>\n",
       "      <td>2,084</td>\n",
       "      <td>91</td>\n",
       "    </tr>\n",
       "    <tr>\n",
       "      <th>6</th>\n",
       "      <td>149.13</td>\n",
       "      <td>-35.30</td>\n",
       "      <td>Australian Capital Territory</td>\n",
       "      <td>802</td>\n",
       "      <td>n.a.</td>\n",
       "    </tr>\n",
       "    <tr>\n",
       "      <th>7</th>\n",
       "      <td>130.83</td>\n",
       "      <td>-12.45</td>\n",
       "      <td>Northern Territory</td>\n",
       "      <td>323</td>\n",
       "      <td>7</td>\n",
       "    </tr>\n",
       "  </tbody>\n",
       "</table>\n",
       "</div>"
      ],
      "text/plain": [
       "   longitude  latitude                         State Non Residential  \\\n",
       "0     151.20    -33.87               New South Wales          29,074   \n",
       "1     144.97    -37.82                      Victoria          30,958   \n",
       "2     153.02    -27.47                    Queensland          22,150   \n",
       "3     115.85    -31.95             Western Australia           5,529   \n",
       "4     138.60    -34.93               South Australia          10,574   \n",
       "5     147.32    -42.88                      Tasmania           2,084   \n",
       "6     149.13    -35.30  Australian Capital Territory             802   \n",
       "7     130.83    -12.45            Northern Territory             323   \n",
       "\n",
       "  Residential  \n",
       "0         575  \n",
       "1         418  \n",
       "2         495  \n",
       "3         180  \n",
       "4         609  \n",
       "5          91  \n",
       "6        n.a.  \n",
       "7           7  "
      ]
     },
     "execution_count": 23,
     "metadata": {},
     "output_type": "execute_result"
    }
   ],
   "source": [
    "df1 #final check of the dataframe"
   ]
  },
  {
   "cell_type": "markdown",
   "metadata": {},
   "source": [
    "## Saving the CSV file"
   ]
  },
  {
   "cell_type": "code",
   "execution_count": null,
   "metadata": {},
   "outputs": [],
   "source": [
    "df1.to_csv('Australian_health.csv')"
   ]
  },
  {
   "cell_type": "markdown",
   "metadata": {},
   "source": [
    "The above obtained dataframe is loaded into tableau software to create an interactive visualisation. An Australian Map is created which shows information related to mental health services accessed by people region wise in Australia."
   ]
  },
  {
   "cell_type": "markdown",
   "metadata": {},
   "source": [
    "***THE END***"
   ]
  },
  {
   "cell_type": "code",
   "execution_count": null,
   "metadata": {},
   "outputs": [],
   "source": []
  }
 ],
 "metadata": {
  "kernelspec": {
   "display_name": "Python 3",
   "language": "python",
   "name": "python3"
  },
  "language_info": {
   "codemirror_mode": {
    "name": "ipython",
    "version": 3
   },
   "file_extension": ".py",
   "mimetype": "text/x-python",
   "name": "python",
   "nbconvert_exporter": "python",
   "pygments_lexer": "ipython3",
   "version": "3.7.3"
  }
 },
 "nbformat": 4,
 "nbformat_minor": 2
}
