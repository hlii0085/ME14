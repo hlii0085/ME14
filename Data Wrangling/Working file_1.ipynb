{
 "cells": [
  {
   "cell_type": "markdown",
   "metadata": {},
   "source": [
    "**This jupyter notebook file contains different data manipulation techniques used to convert the open dataset(taken from https://ourworldindata.org/mental-health) into a required form inorder to create an interactive data visualisation that displays information about prevalence of different mental health issues here in Australia over years**\n",
    "\n",
    "***Author : Sai Teja Pothnak***"
   ]
  },
  {
   "cell_type": "code",
   "execution_count": 1,
   "metadata": {},
   "outputs": [
    {
     "data": {
      "text/plain": [
       "'C:\\\\Users\\\\saite\\\\Desktop\\\\Project Datasets'"
      ]
     },
     "execution_count": 1,
     "metadata": {},
     "output_type": "execute_result"
    }
   ],
   "source": [
    "%pwd #checking the directory"
   ]
  },
  {
   "cell_type": "markdown",
   "metadata": {},
   "source": [
    "## Importing the packages"
   ]
  },
  {
   "cell_type": "code",
   "execution_count": 2,
   "metadata": {},
   "outputs": [],
   "source": [
    "import pandas as pd #importing pandas for data manipulation\n",
    "import math # import math"
   ]
  },
  {
   "cell_type": "markdown",
   "metadata": {},
   "source": [
    "## Data Manipulation"
   ]
  },
  {
   "cell_type": "code",
   "execution_count": 3,
   "metadata": {},
   "outputs": [],
   "source": [
    "eat=pd.read_csv('eating_disorder.csv') #reading the file\n",
    "\n",
    "eat=eat[eat.Entity=='Australia'] #filtering for only australian data\n",
    "\n",
    "eat=eat.reset_index(inplace=False) #reseting index\n",
    "\n",
    "eat=eat.drop(['index'], axis=1) #dropping an unwanted column\n",
    "\n",
    "# eat.to_csv('Eating_Disorder.csv') "
   ]
  },
  {
   "cell_type": "code",
   "execution_count": 4,
   "metadata": {},
   "outputs": [],
   "source": [
    "anx=pd.read_csv('anxiety_disorder.csv') #reading the anxiety related csv file\n",
    "\n",
    "anx=anx[anx.Entity=='Australia'] #filtering for only australian data\n",
    "\n",
    "anx=anx.reset_index(inplace=False) #resetting the index\n",
    "\n",
    "anx=anx.drop(['index'], axis=1) #dropping an inwanted column\n",
    "\n",
    "# anx.to_csv('anxios_Disorder.csv')"
   ]
  },
  {
   "cell_type": "code",
   "execution_count": 5,
   "metadata": {},
   "outputs": [],
   "source": [
    "bip=pd.read_csv('bipolar_disorder.csv') #reading the bipolar related file\n",
    "\n",
    "bip=bip[bip.Entity=='Australia'] #filtering for only Australian data\n",
    "\n",
    "bip=bip.reset_index(inplace=False) #resetting the index\n",
    "\n",
    "bip=bip.drop(['index'], axis=1) # dropping an unwanted column\n",
    "\n",
    "# bip.to_csv('Bipolar.csv')"
   ]
  },
  {
   "cell_type": "code",
   "execution_count": 8,
   "metadata": {},
   "outputs": [],
   "source": [
    "depression=pd.read_csv('depression.csv') #reading the bipolar file\n",
    "\n",
    "depression=depression[depression.Entity=='Australia'] # filtering only australian data\n",
    "\n",
    "depression=depression.reset_index(inplace=False) #resetting the index\n",
    "\n",
    "depression=depression.drop(['index'], axis=1) #dropping the unwanted column\n",
    "\n",
    "# depression.to_csv('Depress.csv')"
   ]
  },
  {
   "cell_type": "markdown",
   "metadata": {},
   "source": [
    "## Concatenating the Data Frames"
   ]
  },
  {
   "cell_type": "code",
   "execution_count": 11,
   "metadata": {},
   "outputs": [],
   "source": [
    "frames = [eat, anx, depression,bip]"
   ]
  },
  {
   "cell_type": "code",
   "execution_count": 12,
   "metadata": {},
   "outputs": [],
   "source": [
    "final=pd.concat(frames,sort=True)"
   ]
  },
  {
   "cell_type": "code",
   "execution_count": null,
   "metadata": {},
   "outputs": [],
   "source": [
    "final.head()"
   ]
  },
  {
   "cell_type": "markdown",
   "metadata": {},
   "source": [
    "## Removing Null Values and making a single column with values corresponding to each mental issue."
   ]
  },
  {
   "cell_type": "code",
   "execution_count": 15,
   "metadata": {},
   "outputs": [],
   "source": [
    "#Storing the Colunms as a list\n",
    "p1=list(final.iloc[:,3]) \n",
    "p2=list(final.iloc[:,4])\n",
    "p3=list(final.iloc[:,5])\n",
    "p4=list(final.iloc[:,6])\n"
   ]
  },
  {
   "cell_type": "code",
   "execution_count": 16,
   "metadata": {},
   "outputs": [],
   "source": [
    "prev=[0]*len(p1) #initialising a new list to store all the values"
   ]
  },
  {
   "cell_type": "code",
   "execution_count": 17,
   "metadata": {},
   "outputs": [],
   "source": [
    "#looping over the size of list\n",
    "for i in range(len(p1)):\n",
    "    if math.isnan(p1[i]): #if a value is nan\n",
    "        pass  \n",
    "    else: #if not\n",
    "        prev[i]=p1[i] # store that value into the initialised list at same position\n",
    "        \n",
    "    if math.isnan(p2[i])  #if a value is nan\n",
    "        pass  \n",
    "    else:\n",
    "        prev[i]=p2[i] # store that value into the initialised list at same position\n",
    "        \n",
    "    if math.isnan(p3[i]): #if a value is nan\n",
    "        pass    \n",
    "    else:\n",
    "        prev[i]=p3[i] # store that value into the initialised list at same position\n",
    "        \n",
    "    if math.isnan(p4[i]): #if a value is nan\n",
    "        pass     \n",
    "    else:\n",
    "        prev[i]=p4[i] # store that value into the initialised list at same position"
   ]
  },
  {
   "cell_type": "markdown",
   "metadata": {},
   "source": [
    "## Dropping the unwanted columns"
   ]
  },
  {
   "cell_type": "code",
   "execution_count": 18,
   "metadata": {},
   "outputs": [],
   "source": [
    "final2 = final.drop(final.columns[[3,4,5,6,7]], axis=1) "
   ]
  },
  {
   "cell_type": "markdown",
   "metadata": {},
   "source": [
    "## Adding the new list as a column into the data frame"
   ]
  },
  {
   "cell_type": "code",
   "execution_count": 20,
   "metadata": {},
   "outputs": [],
   "source": [
    "final2['Prevalence']=prev"
   ]
  },
  {
   "cell_type": "markdown",
   "metadata": {},
   "source": [
    "## Final Dataset into Required form"
   ]
  },
  {
   "cell_type": "code",
   "execution_count": 21,
   "metadata": {},
   "outputs": [
    {
     "data": {
      "text/html": [
       "<div>\n",
       "<style scoped>\n",
       "    .dataframe tbody tr th:only-of-type {\n",
       "        vertical-align: middle;\n",
       "    }\n",
       "\n",
       "    .dataframe tbody tr th {\n",
       "        vertical-align: top;\n",
       "    }\n",
       "\n",
       "    .dataframe thead th {\n",
       "        text-align: right;\n",
       "    }\n",
       "</style>\n",
       "<table border=\"1\" class=\"dataframe\">\n",
       "  <thead>\n",
       "    <tr style=\"text-align: right;\">\n",
       "      <th></th>\n",
       "      <th>Code</th>\n",
       "      <th>Disorder</th>\n",
       "      <th>Entity</th>\n",
       "      <th>Year</th>\n",
       "      <th>Prevalence</th>\n",
       "    </tr>\n",
       "  </thead>\n",
       "  <tbody>\n",
       "    <tr>\n",
       "      <th>0</th>\n",
       "      <td>AUS</td>\n",
       "      <td>Easting Disorder</td>\n",
       "      <td>Australia</td>\n",
       "      <td>1990</td>\n",
       "      <td>0.700091</td>\n",
       "    </tr>\n",
       "    <tr>\n",
       "      <th>1</th>\n",
       "      <td>AUS</td>\n",
       "      <td>Easting Disorder</td>\n",
       "      <td>Australia</td>\n",
       "      <td>1991</td>\n",
       "      <td>0.704109</td>\n",
       "    </tr>\n",
       "    <tr>\n",
       "      <th>2</th>\n",
       "      <td>AUS</td>\n",
       "      <td>Easting Disorder</td>\n",
       "      <td>Australia</td>\n",
       "      <td>1992</td>\n",
       "      <td>0.708001</td>\n",
       "    </tr>\n",
       "    <tr>\n",
       "      <th>3</th>\n",
       "      <td>AUS</td>\n",
       "      <td>Easting Disorder</td>\n",
       "      <td>Australia</td>\n",
       "      <td>1993</td>\n",
       "      <td>0.713708</td>\n",
       "    </tr>\n",
       "    <tr>\n",
       "      <th>4</th>\n",
       "      <td>AUS</td>\n",
       "      <td>Easting Disorder</td>\n",
       "      <td>Australia</td>\n",
       "      <td>1994</td>\n",
       "      <td>0.719508</td>\n",
       "    </tr>\n",
       "    <tr>\n",
       "      <th>...</th>\n",
       "      <td>...</td>\n",
       "      <td>...</td>\n",
       "      <td>...</td>\n",
       "      <td>...</td>\n",
       "      <td>...</td>\n",
       "    </tr>\n",
       "    <tr>\n",
       "      <th>23</th>\n",
       "      <td>AUS</td>\n",
       "      <td>NaN</td>\n",
       "      <td>Australia</td>\n",
       "      <td>2013</td>\n",
       "      <td>1.147593</td>\n",
       "    </tr>\n",
       "    <tr>\n",
       "      <th>24</th>\n",
       "      <td>AUS</td>\n",
       "      <td>NaN</td>\n",
       "      <td>Australia</td>\n",
       "      <td>2014</td>\n",
       "      <td>1.146475</td>\n",
       "    </tr>\n",
       "    <tr>\n",
       "      <th>25</th>\n",
       "      <td>AUS</td>\n",
       "      <td>NaN</td>\n",
       "      <td>Australia</td>\n",
       "      <td>2015</td>\n",
       "      <td>1.145130</td>\n",
       "    </tr>\n",
       "    <tr>\n",
       "      <th>26</th>\n",
       "      <td>AUS</td>\n",
       "      <td>NaN</td>\n",
       "      <td>Australia</td>\n",
       "      <td>2016</td>\n",
       "      <td>1.143669</td>\n",
       "    </tr>\n",
       "    <tr>\n",
       "      <th>27</th>\n",
       "      <td>AUS</td>\n",
       "      <td>NaN</td>\n",
       "      <td>Australia</td>\n",
       "      <td>2017</td>\n",
       "      <td>1.142097</td>\n",
       "    </tr>\n",
       "  </tbody>\n",
       "</table>\n",
       "<p>112 rows × 5 columns</p>\n",
       "</div>"
      ],
      "text/plain": [
       "   Code          Disorder     Entity  Year  Prevalence\n",
       "0   AUS  Easting Disorder  Australia  1990    0.700091\n",
       "1   AUS  Easting Disorder  Australia  1991    0.704109\n",
       "2   AUS  Easting Disorder  Australia  1992    0.708001\n",
       "3   AUS  Easting Disorder  Australia  1993    0.713708\n",
       "4   AUS  Easting Disorder  Australia  1994    0.719508\n",
       "..  ...               ...        ...   ...         ...\n",
       "23  AUS               NaN  Australia  2013    1.147593\n",
       "24  AUS               NaN  Australia  2014    1.146475\n",
       "25  AUS               NaN  Australia  2015    1.145130\n",
       "26  AUS               NaN  Australia  2016    1.143669\n",
       "27  AUS               NaN  Australia  2017    1.142097\n",
       "\n",
       "[112 rows x 5 columns]"
      ]
     },
     "execution_count": 21,
     "metadata": {},
     "output_type": "execute_result"
    }
   ],
   "source": [
    "final2.head()"
   ]
  },
  {
   "cell_type": "markdown",
   "metadata": {},
   "source": [
    "## Saving the dataset into CSV"
   ]
  },
  {
   "cell_type": "code",
   "execution_count": 22,
   "metadata": {},
   "outputs": [],
   "source": [
    "final2.to_csv('Final_Data.csv') "
   ]
  },
  {
   "cell_type": "markdown",
   "metadata": {},
   "source": [
    "The above saved CSV file is later read into Tableau software for creating an interactive visualisation that displays about prevalence of different mental health issues here in Australia"
   ]
  },
  {
   "cell_type": "markdown",
   "metadata": {},
   "source": [
    "***THE END***"
   ]
  },
  {
   "cell_type": "code",
   "execution_count": null,
   "metadata": {},
   "outputs": [],
   "source": []
  }
 ],
 "metadata": {
  "kernelspec": {
   "display_name": "Python 3",
   "language": "python",
   "name": "python3"
  },
  "language_info": {
   "codemirror_mode": {
    "name": "ipython",
    "version": 3
   },
   "file_extension": ".py",
   "mimetype": "text/x-python",
   "name": "python",
   "nbconvert_exporter": "python",
   "pygments_lexer": "ipython3",
   "version": "3.7.3"
  }
 },
 "nbformat": 4,
 "nbformat_minor": 2
}
